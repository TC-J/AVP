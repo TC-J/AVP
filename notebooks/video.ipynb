{
 "cells": [
  {
   "cell_type": "code",
   "execution_count": null,
   "metadata": {},
   "outputs": [],
   "source": [
    "from avp.video.camera import camera\n",
    "\n",
    "from avp.video.photo import ndphoto\n",
    "\n",
    "import matplotlib.pyplot as plt\n",
    "\n",
    "from matplotlib.pyplot import imshow\n",
    "\n",
    "import numpy as np\n",
    "\n",
    "import cv2"
   ]
  },
  {
   "cell_type": "markdown",
   "metadata": {},
   "source": [
    "**Changing Camera settings** \n",
    "\n",
    "is OS and device specific; for eg, Windows uses DirectShow API and then the various camera-hardware will often have specific values that one must use -- for a particular property; however, one may still try setting some of the properties of  `vcam` -- which uses OpenCV2 internally.\n",
    "\n",
    "**Below we print some of the property values using using the `vc.__str__`. Note that _getting_ the property values is consistent -- for most of the properties.**\n",
    "\n",
    "The properties include `vc.fps, *vc.resolution, vc.brightness, vc.contrast, vc.saturation, vc.gamma, vc.gain`.\n",
    "\n",
    "**The `vcam` instance has an OpenCV2 instance of `VideoCapture` accessible via `vc.inner` -- for use of the lower-level backend OpenCV object.**"
   ]
  },
  {
   "cell_type": "code",
   "execution_count": null,
   "metadata": {},
   "outputs": [],
   "source": [
    "vc = camera(0)\n",
    "\n",
    "print(vc)\n",
    "\n",
    "print(type(vc.inner))"
   ]
  },
  {
   "cell_type": "markdown",
   "metadata": {},
   "source": [
    "**Below we take a photo and convert it from BGR (typical default from cameras) to RGB using the format property; then we plot the photo:**"
   ]
  },
  {
   "cell_type": "code",
   "execution_count": null,
   "metadata": {},
   "outputs": [],
   "source": [
    "photo: ndphoto = vc.photo()\n",
    "\n",
    "imshow(photo)"
   ]
  },
  {
   "cell_type": "markdown",
   "metadata": {},
   "source": [
    "**Convert Photo Format**\n",
    "\n",
    "Using the property `photo.format = ...` when the shapes will be equal; otherwise use `photo.convert(color_format)`.\n",
    "\n",
    "Not all conversions are supported yet."
   ]
  },
  {
   "cell_type": "code",
   "execution_count": null,
   "metadata": {},
   "outputs": [],
   "source": [
    "photo.format = \"RGB\"\n",
    "\n",
    "imshow(photo)"
   ]
  },
  {
   "cell_type": "code",
   "execution_count": null,
   "metadata": {},
   "outputs": [],
   "source": [
    "photo.format = \"BGR\"\n",
    "\n",
    "imshow(photo)"
   ]
  },
  {
   "cell_type": "code",
   "execution_count": null,
   "metadata": {},
   "outputs": [],
   "source": [
    "if not photo.convert(\"YUV\"):\n",
    "    print(\"photo.convert(\\\"YUV\\\") was able to adjust the instance in-place!\")\n",
    "\n",
    "photo.convert(\"BGR\")\n",
    "\n",
    "# BGR to RGBA will yield a different shape in the output, so the contents of the new photo\n",
    "# will not be replace the instance in-place; so, convert will return a new ndphoto instance.\n",
    "new_photo = photo.convert(\"RGBA\")\n",
    "\n",
    "# emphasize the fact that the `new_photo` and `photo` are different instances; \n",
    "# this confirms that the `photo` instance was not modified in-place.\n",
    "print(\"`new_photo` is not `photo`: \", new_photo is not photo)\n",
    "\n",
    "imshow(new_photo)\n"
   ]
  },
  {
   "cell_type": "code",
   "execution_count": null,
   "metadata": {},
   "outputs": [],
   "source": [
    "# equivalent to: yuv_photo = new_photo.convert(\"yuv_i420\")\n",
    "yuv_photo = new_photo.convert(\"yuv\")\n",
    "\n",
    "imshow(yuv_photo)"
   ]
  },
  {
   "cell_type": "code",
   "execution_count": null,
   "metadata": {},
   "outputs": [],
   "source": []
  }
 ],
 "metadata": {
  "kernelspec": {
   "display_name": "avp-nDVUgqLi-py3.11",
   "language": "python",
   "name": "python3"
  },
  "language_info": {
   "codemirror_mode": {
    "name": "ipython",
    "version": 3
   },
   "file_extension": ".py",
   "mimetype": "text/x-python",
   "name": "python",
   "nbconvert_exporter": "python",
   "pygments_lexer": "ipython3",
   "version": "3.11.8"
  }
 },
 "nbformat": 4,
 "nbformat_minor": 2
}
