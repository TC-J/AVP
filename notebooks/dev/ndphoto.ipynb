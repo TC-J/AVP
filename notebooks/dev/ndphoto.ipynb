{
 "cells": [
  {
   "cell_type": "code",
   "execution_count": 1,
   "metadata": {},
   "outputs": [],
   "source": [
    "import numpy as np\n",
    "\n",
    "from avp.video.vcam import vcam\n",
    "\n",
    "from avp.video.photo import ndphoto\n",
    "\n",
    "import cv2\n",
    "\n",
    "import matplotlib.pyplot as plt\n",
    "\n",
    "from matplotlib.pyplot import imshow"
   ]
  },
  {
   "cell_type": "code",
   "execution_count": 9,
   "metadata": {},
   "outputs": [
    {
     "name": "stdout",
     "output_type": "stream",
     "text": [
      "['RGBA -> YUV_I4 -> 0', 'RGBA -> YUV_IYUV', 'RGBA -> YUV_UYNV', 'RGBA -> YUV_UYVY', 'RGBA -> YUV_Y4 ->  -> ', 'RGBA -> YUV_YUNV', 'RGBA -> YUV_YUY -> ', 'RGBA -> YUV_YUYV', 'RGBA -> YUV_YV1 -> ', 'RGBA -> YUV_YVYU']\n"
     ]
    }
   ],
   "source": [
    "#vc = vcam(1)\n",
    "\n",
    "#photo: np.ndarray = vc.photo()\n",
    "\n",
    "import re\n",
    "\n",
    "formats = ndphoto.available_format_conversions()\n",
    "\n",
    "if \"RGBA\" + \" -> \" + \"YUV\" not in formats:\n",
    "    print([name for name in formats if re.search(\"RGBA -> YUV\", name)][0].split(\" -> \")[1])\n",
    "\n",
    "\n",
    "#vc.done()"
   ]
  }
 ],
 "metadata": {
  "kernelspec": {
   "display_name": "avp-nDVUgqLi-py3.11",
   "language": "python",
   "name": "python3"
  },
  "language_info": {
   "codemirror_mode": {
    "name": "ipython",
    "version": 3
   },
   "file_extension": ".py",
   "mimetype": "text/x-python",
   "name": "python",
   "nbconvert_exporter": "python",
   "pygments_lexer": "ipython3",
   "version": "3.11.9"
  }
 },
 "nbformat": 4,
 "nbformat_minor": 2
}
