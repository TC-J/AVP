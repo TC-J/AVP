{
 "cells": [
  {
   "cell_type": "code",
   "execution_count": 3,
   "metadata": {},
   "outputs": [],
   "source": [
    "import numpy as np\n",
    "\n",
    "from avp.video.video import Camera, Photo\n",
    "\n",
    "import cv2\n",
    "\n",
    "import matplotlib.pyplot as plt"
   ]
  },
  {
   "cell_type": "code",
   "execution_count": 4,
   "metadata": {},
   "outputs": [
    {
     "name": "stdout",
     "output_type": "stream",
     "text": [
      "(480, 640, 3)\n"
     ]
    },
    {
     "ename": "error",
     "evalue": "OpenCV(4.9.0) :-1: error: (-5:Bad argument) in function 'flip'\n> Overload resolution failed:\n>  - flip() missing required argument 'flipCode' (pos 2)\n>  - flip() missing required argument 'flipCode' (pos 2)\n",
     "output_type": "error",
     "traceback": [
      "\u001b[1;31m---------------------------------------------------------------------------\u001b[0m",
      "\u001b[1;31merror\u001b[0m                                     Traceback (most recent call last)",
      "Cell \u001b[1;32mIn[4], line 7\u001b[0m\n\u001b[0;32m      3\u001b[0m photo: np\u001b[38;5;241m.\u001b[39mndarray \u001b[38;5;241m=\u001b[39m vc\u001b[38;5;241m.\u001b[39mcapture(\u001b[38;5;241m0\u001b[39m)\u001b[38;5;241m.\u001b[39mphoto\n\u001b[0;32m      5\u001b[0m vc\u001b[38;5;241m.\u001b[39mrelease()\n\u001b[1;32m----> 7\u001b[0m plt\u001b[38;5;241m.\u001b[39mimshow(\u001b[43mcv2\u001b[49m\u001b[38;5;241;43m.\u001b[39;49m\u001b[43mflip\u001b[49m\u001b[43m(\u001b[49m\u001b[43mphoto\u001b[49m\u001b[43m)\u001b[49m)\n",
      "\u001b[1;31merror\u001b[0m: OpenCV(4.9.0) :-1: error: (-5:Bad argument) in function 'flip'\n> Overload resolution failed:\n>  - flip() missing required argument 'flipCode' (pos 2)\n>  - flip() missing required argument 'flipCode' (pos 2)\n"
     ]
    }
   ],
   "source": [
    "vc = Camera(0)\n",
    "\n",
    "photo: np.ndarray = vc.capture(0).photo\n",
    "\n",
    "vc.release()\n",
    "\n",
    "plt.imshow(photo)\n"
   ]
  }
 ],
 "metadata": {
  "kernelspec": {
   "display_name": "avp-nDVUgqLi-py3.11",
   "language": "python",
   "name": "python3"
  },
  "language_info": {
   "codemirror_mode": {
    "name": "ipython",
    "version": 3
   },
   "file_extension": ".py",
   "mimetype": "text/x-python",
   "name": "python",
   "nbconvert_exporter": "python",
   "pygments_lexer": "ipython3",
   "version": "3.11.9"
  }
 },
 "nbformat": 4,
 "nbformat_minor": 2
}
