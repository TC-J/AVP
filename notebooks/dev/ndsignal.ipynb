{
 "cells": [
  {
   "cell_type": "code",
   "execution_count": null,
   "metadata": {},
   "outputs": [],
   "source": [
    "from avp.audio.signal import ndsignal\n",
    "\n",
    "from IPython.display import Audio"
   ]
  },
  {
   "cell_type": "markdown",
   "metadata": {},
   "source": [
    "##### **The plainest creation of an `ndsignal`  from samples.**\n",
    "\n",
    "The input-shape is as (n_channels, n_samples) and, by default, this is transposed to make the shape (n_samples, n_channels).\n",
    "\n",
    "This is what we mean when we say that the expected input-form for the samples is for it to be in \"sample major\" as opposed to\n",
    "\"channel major\"; major meaning the first index and minor being the second index, into these matrices.\n",
    "\n",
    "The example below creates an audio signal from a channel-major array of samples with a sample rate of 3 samples for every second -- typically, the number of samples per second is something like 22,050 or as high as 196,000 samples for every second."
   ]
  },
  {
   "cell_type": "code",
   "execution_count": null,
   "metadata": {},
   "outputs": [],
   "source": [
    "signal = ndsignal([[1, -1, 1, -1, 1, -1], [1, -1, 1, -1, 1,-1]], sr=3)"
   ]
  },
  {
   "cell_type": "markdown",
   "metadata": {},
   "source": [
    "We can see the total number of samples by using `signal.N`; the period by `signal.T`; the samplerate by `signal.sr`; and the \n",
    "number of channels by `signal.channels`."
   ]
  },
  {
   "cell_type": "code",
   "execution_count": null,
   "metadata": {},
   "outputs": [],
   "source": [
    "assert signal.T == (1/3)\n",
    "\n",
    "assert signal.N == 6 \n",
    "\n",
    "assert signal.channels == 2"
   ]
  },
  {
   "cell_type": "markdown",
   "metadata": {},
   "source": [
    "**BIG NOTE: Some audio libraries expect the signal to be in channel-major; we default to sample-major.**\n",
    "\n",
    "You can set `signal.in_sample_major = False`, or transpose the signal `signal.transpose()`, or `signal.as_channel_major()`, or create the signal with a channel-major input and prevent the internal transpose by specifying the flag to false: \n",
    "\n",
    "`sample = ndsignal(input_samples, samplerate, into_sample_major=False)`\n",
    "\n",
    "The above will get the signal in channel-major."
   ]
  },
  {
   "cell_type": "code",
   "execution_count": null,
   "metadata": {},
   "outputs": [],
   "source": [
    "signal = ndsignal.load(\"../../assets/audios/piano_c.wav\")\n",
    "\n",
    "Audio(data=signal.as_channel_major(), rate=signal.sr)"
   ]
  },
  {
   "cell_type": "markdown",
   "metadata": {},
   "source": [
    "### Sample Indexing & Time Indexing\n",
    "\n",
    "Floats are considered time-indices (seconds indexing) and Integers are considered sample-indices (regular indexing).\n",
    "\n",
    "**Below, the piano_c.wav audio signal is indexed from 1 to 2 seconds on the first channel.**"
   ]
  },
  {
   "cell_type": "code",
   "execution_count": null,
   "metadata": {},
   "outputs": [],
   "source": [
    "channel = 0\n",
    "\n",
    "Audio(signal[1.:2., channel].as_channel_major(), rate=signal.sr)\n"
   ]
  },
  {
   "cell_type": "markdown",
   "metadata": {},
   "source": [
    "|| The algorithm for converting seconds to a sample-index is to divide the time by the period of the audio signal.\n",
    "\n",
    "**Below, we calculate the sample indices that we used above:**"
   ]
  },
  {
   "cell_type": "code",
   "execution_count": null,
   "metadata": {},
   "outputs": [],
   "source": [
    "start_seconds = 1.\n",
    "\n",
    "stop_seconds = 2.\n",
    "\n",
    "period = signal.T   # equivalently, 1 / self.sr\n",
    "\n",
    "start_sample_index = round(start_seconds / period)\n",
    "\n",
    "stop_sample_index = round(stop_seconds / period)\n",
    "\n",
    "assert np.all(signal[start_sample_index: stop_sample_index, channel] == signal[1.:2., channel])\n",
    "\n",
    "start_sample_index, stop_sample_index "
   ]
  }
 ],
 "metadata": {
  "kernelspec": {
   "display_name": "avp-nDVUgqLi-py3.11",
   "language": "python",
   "name": "python3"
  },
  "language_info": {
   "codemirror_mode": {
    "name": "ipython",
    "version": 3
   },
   "file_extension": ".py",
   "mimetype": "text/x-python",
   "name": "python",
   "nbconvert_exporter": "python",
   "pygments_lexer": "ipython3",
   "version": "3.11.9"
  }
 },
 "nbformat": 4,
 "nbformat_minor": 2
}
